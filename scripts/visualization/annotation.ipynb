{
 "cells": [
  {
   "cell_type": "code",
   "execution_count": 2,
   "metadata": {},
   "outputs": [],
   "source": [
    "import pymongo\n",
    "import pandas as pd\n",
    "import seaborn as sns\n",
    "import matplotlib.pyplot as plt\n",
    "import numpy as np\n",
    "import operator as op\n",
    "client_base = pymongo.MongoClient(f'mongodb://localhost:27017')\n",
    "mydb_base = client_base.get_database(\"toxic_games\")\n",
    "\n",
    "collection_base = mydb_base.get_collection(\"games\")"
   ]
  },
  {
   "cell_type": "code",
   "execution_count": 3,
   "metadata": {},
   "outputs": [],
   "source": [
    "annotators = mydb_base.get_collection(\"annotators\")"
   ]
  },
  {
   "cell_type": "code",
   "execution_count": 4,
   "metadata": {},
   "outputs": [],
   "source": [
    "def generate_box_plot(df, column_name, title=\"Boxplot\"):\n",
    "    plotdf = df[column_name]\n",
    "    #print(plotdf)\n",
    "    #plotdf = plotdf.melt(id_vars=['A102'], value_vars=column_name)\n",
    "    #print(plotdf)\n",
    "    #exit()\n",
    "    sns.set_theme(style=\"ticks\", palette=\"pastel\")\n",
    "\n",
    "    # Load the example tips dataset\n",
    "    tips = sns.load_dataset(\"tips\")\n",
    "\n",
    "    # Draw a nested boxplot to show bills by day and time\n",
    "    #sns.boxplot(data=plotdf).set_title(title)\n",
    "    sns.boxplot(data=plotdf).set_title(title)\n",
    "    sns.despine(offset=10, trim=True)\n",
    "    plt.show()"
   ]
  },
  {
   "cell_type": "code",
   "execution_count": 5,
   "metadata": {},
   "outputs": [],
   "source": [
    "annotations = {\n",
    "    'NEUTRAL': [],\n",
    "    'SLIGHTLY_TOXIC': [],\n",
    "    'TOXIC': [],\n",
    "    'EXTREMELY_TOXIC': [],\n",
    "    'N_A': []\n",
    "}\n",
    "for match in collection_base.find({\"type\": \"random\", \"problem\": {\"$exists\": False}}):\n",
    "    if \"annotation\" not in match:\n",
    "        continue\n",
    "    score = match[\"detoxify-original-average\"]\n",
    "    for annotation in match[\"annotation\"]:\n",
    "      annotations[annotation].append(score)"
   ]
  },
  {
   "cell_type": "code",
   "execution_count": 6,
   "metadata": {},
   "outputs": [
    {
     "data": {
      "text/plain": [
       "array([[1.        , 0.35602896],\n",
       "       [0.35602896, 1.        ]])"
      ]
     },
     "execution_count": 6,
     "metadata": {},
     "output_type": "execute_result"
    }
   ],
   "source": [
    "x = [0 for i in range(len(annotations['NEUTRAL']))]\n",
    "x.extend([1 for i in range(len(annotations['SLIGHTLY_TOXIC']))])\n",
    "x.extend([2 for i in range(len(annotations['TOXIC']))])\n",
    "x.extend([3 for i in range(len(annotations['EXTREMELY_TOXIC']))])\n",
    "y = annotations[\"NEUTRAL\"]\n",
    "y.extend(annotations['SLIGHTLY_TOXIC'])\n",
    "y.extend(annotations['TOXIC'])\n",
    "y.extend(annotations['EXTREMELY_TOXIC'])\n",
    "np.corrcoef(x,y)"
   ]
  },
  {
   "cell_type": "code",
   "execution_count": 7,
   "metadata": {},
   "outputs": [
    {
     "data": {
      "image/png": "[encoded data removed]",
      "text/plain": [
       "<Figure size 640x480 with 1 Axes>"
      ]
     },
     "metadata": {},
     "output_type": "display_data"
    }
   ],
   "source": [
    "annotation_data ={\n",
    "    'NEUTRAL': annotations[\"NEUTRAL\"],\n",
    "    'SLIGHTLY_TOXIC': annotations[\"SLIGHTLY_TOXIC\"],\n",
    "    'TOXIC': annotations[\"TOXIC\"],\n",
    "    'EXTREMELY_TOXIC': annotations[\"EXTREMELY_TOXIC\"],\n",
    "}\n",
    "def sort(item):\n",
    "    if item[0] == 'NEUTRAL':\n",
    "        return 0\n",
    "    elif item[0] == 'SLIGHTLY_TOXIC':\n",
    "        return 1\n",
    "    elif item[0] == 'TOXIC':\n",
    "        return 2\n",
    "    elif item[0] == 'EXTREMELY_TOXIC':\n",
    "        return 3\n",
    "      \n",
    "\n",
    "sorted_keys, sorted_vals = zip(*sorted(annotation_data.items(), key=sort))\n",
    "\n",
    "# almost verbatim from question\n",
    "sns.set(context='notebook', style='whitegrid')\n",
    "#sns.axlabel(xlabel=\"Groups\", ylabel=\"Y-Axis\", fontsize=16)\n",
    "sns.boxplot(data=sorted_vals, width=.18)\n",
    "#sns.swarmplot(data=sorted_vals, size=6, edgecolor=\"black\", linewidth=.9)\n",
    "\n",
    "# category labels\n",
    "plt.xticks(plt.xticks()[0], sorted_keys)\n",
    "plt.ylabel(\"Toxicity score\")\n",
    "plt.show()"
   ]
  },
  {
   "cell_type": "code",
   "execution_count": 8,
   "metadata": {},
   "outputs": [
    {
     "data": {
      "text/plain": [
       "0.044189852700491"
      ]
     },
     "execution_count": 8,
     "metadata": {},
     "output_type": "execute_result"
    }
   ],
   "source": [
    "(np.array(annotation_data[\"NEUTRAL\"]) > 0.2).sum()/len(annotation_data[\"NEUTRAL\"])"
   ]
  },
  {
   "cell_type": "code",
   "execution_count": 9,
   "metadata": {},
   "outputs": [
    {
     "data": {
      "text/plain": [
       "611"
      ]
     },
     "execution_count": 9,
     "metadata": {},
     "output_type": "execute_result"
    }
   ],
   "source": [
    "len(annotation_data[\"NEUTRAL\"])"
   ]
  },
  {
   "cell_type": "code",
   "execution_count": 10,
   "metadata": {},
   "outputs": [
    {
     "name": "stdout",
     "output_type": "stream",
     "text": [
      "Neutral 611 Slightly_TOXIC 79 TOXIC 25 EXTREMELY TOXIC 10\n"
     ]
    }
   ],
   "source": [
    "print(\"Neutral\", len(annotation_data[\"NEUTRAL\"]), \"Slightly_TOXIC\", len(annotation_data[\"SLIGHTLY_TOXIC\"]), \"TOXIC\", len(annotation_data[\"TOXIC\"]), \"EXTREMELY TOXIC\", len(annotation_data[\"EXTREMELY_TOXIC\"]))"
   ]
  },
  {
   "cell_type": "code",
   "execution_count": 11,
   "metadata": {},
   "outputs": [],
   "source": [
    "get_score = {\n",
    "    \"NEUTRAL\": 0,\n",
    "    \"SLIGHTLY_TOXIC\": 1,\n",
    "    \"TOXIC\": 2,\n",
    "    \"EXTREMELY_TOXIC\": 3 \n",
    "}"
   ]
  },
  {
   "cell_type": "code",
   "execution_count": 12,
   "metadata": {},
   "outputs": [
    {
     "name": "stdout",
     "output_type": "stream",
     "text": [
      "SLIGHTLY_TOXIC TOXIC\n",
      "SLIGHTLY_TOXIC NEUTRAL\n",
      "SLIGHTLY_TOXIC NEUTRAL\n",
      "NEUTRAL SLIGHTLY_TOXIC\n",
      "NEUTRAL TOXIC\n",
      "SLIGHTLY_TOXIC TOXIC\n",
      "TOXIC SLIGHTLY_TOXIC\n",
      "SLIGHTLY_TOXIC NEUTRAL\n",
      "SLIGHTLY_TOXIC TOXIC\n",
      "SLIGHTLY_TOXIC NEUTRAL\n",
      "SLIGHTLY_TOXIC NEUTRAL\n",
      "SLIGHTLY_TOXIC NEUTRAL\n",
      "TOXIC SLIGHTLY_TOXIC\n",
      "SLIGHTLY_TOXIC NEUTRAL\n",
      "SLIGHTLY_TOXIC NEUTRAL\n",
      "SLIGHTLY_TOXIC EXTREMELY_TOXIC\n",
      "SLIGHTLY_TOXIC NEUTRAL\n",
      "SLIGHTLY_TOXIC TOXIC\n",
      "NEUTRAL SLIGHTLY_TOXIC\n",
      "NEUTRAL TOXIC\n",
      "NEUTRAL SLIGHTLY_TOXIC\n",
      "SLIGHTLY_TOXIC NEUTRAL\n",
      "NEUTRAL SLIGHTLY_TOXIC\n",
      "SLIGHTLY_TOXIC NEUTRAL\n",
      "NEUTRAL SLIGHTLY_TOXIC\n",
      "NEUTRAL SLIGHTLY_TOXIC\n",
      "SLIGHTLY_TOXIC NEUTRAL\n",
      "SLIGHTLY_TOXIC TOXIC\n",
      "SLIGHTLY_TOXIC TOXIC\n",
      "SLIGHTLY_TOXIC NEUTRAL\n",
      "SLIGHTLY_TOXIC NEUTRAL\n",
      "NEUTRAL SLIGHTLY_TOXIC\n",
      "TOXIC SLIGHTLY_TOXIC\n",
      "NEUTRAL SLIGHTLY_TOXIC\n"
     ]
    }
   ],
   "source": [
    "total_double = 0\n",
    "disagreement_score = 0\n",
    "total_disagreement = 0\n",
    "neutral_disagreement = 0\n",
    "slightly_disagreement = 0\n",
    "toxic_disagreement = 0\n",
    "for match in collection_base.find({\"problem\": {\"$exists\": False}}):\n",
    "    if \"annotation\" not in match or len(match[\"annotation\"]) <= 1:\n",
    "        continue\n",
    "    score = match[\"detoxify-original-average\"]\n",
    "\n",
    "    if match[\"annotation\"][0] == \"N_A\" or match[\"annotation\"][1] == \"N_A\":\n",
    "        continue\n",
    "    total_double += 1\n",
    "    if match[\"annotation\"][0] != match[\"annotation\"][1]:\n",
    "        print(match[\"annotation\"][0], match[\"annotation\"][1])\n",
    "        if match[\"annotation\"][0] == \"NEUTRAL\" or match[\"annotation\"][1] == \"NEUTRAL\":\n",
    "            neutral_disagreement += 1\n",
    "        if match[\"annotation\"][0] == \"SLIGHTLY_TOXIC\" or match[\"annotation\"][1] == \"SLIGHTLY_TOXIC\":\n",
    "            slightly_disagreement += 1\n",
    "        if match[\"annotation\"][0] == \"TOXIC\" or match[\"annotation\"][1] == \"TOXIC\":\n",
    "            toxic_disagreement += 1\n",
    "        total_disagreement += 1\n",
    "        disagreement_score += np.abs(get_score[match[\"annotation\"][0]] - get_score[match[\"annotation\"][1]])\n",
    "      #annotations[annotation].append(score)"
   ]
  },
  {
   "cell_type": "code",
   "execution_count": 13,
   "metadata": {},
   "outputs": [
    {
     "name": "stdout",
     "output_type": "stream",
     "text": [
      "Score 37 Total 34 NEUTRAL 24 SLIGHTLY 32 TOXIC 11\n"
     ]
    }
   ],
   "source": [
    "print(\"Score\", disagreement_score, \"Total\", total_disagreement, \"NEUTRAL\", neutral_disagreement, \"SLIGHTLY\", slightly_disagreement, \"TOXIC\", toxic_disagreement)"
   ]
  },
  {
   "cell_type": "code",
   "execution_count": 14,
   "metadata": {},
   "outputs": [
    {
     "name": "stdout",
     "output_type": "stream",
     "text": [
      "126\n"
     ]
    }
   ],
   "source": [
    "print(total_double)"
   ]
  },
  {
   "cell_type": "code",
   "execution_count": 15,
   "metadata": {},
   "outputs": [],
   "source": [
    "with open(\"data/data_online-toxicity_2023-08-08_21-41.csv\", encoding='utf-16') as f:\n",
    "    df = pd.read_csv(f, sep='\\t', encoding='utf-16', header=0, skiprows=[1])"
   ]
  },
  {
   "cell_type": "code",
   "execution_count": 16,
   "metadata": {},
   "outputs": [
    {
     "data": {
      "text/html": [
       "<div>\n",
       "<style scoped>\n",
       "    .dataframe tbody tr th:only-of-type {\n",
       "        vertical-align: middle;\n",
       "    }\n",
       "\n",
       "    .dataframe tbody tr th {\n",
       "        vertical-align: top;\n",
       "    }\n",
       "\n",
       "    .dataframe thead th {\n",
       "        text-align: right;\n",
       "    }\n",
       "</style>\n",
       "<table border=\"1\" class=\"dataframe\">\n",
       "  <thead>\n",
       "    <tr style=\"text-align: right;\">\n",
       "      <th></th>\n",
       "      <th>CASE</th>\n",
       "      <th>SERIAL</th>\n",
       "      <th>REF</th>\n",
       "      <th>QUESTNNR</th>\n",
       "      <th>MODE</th>\n",
       "      <th>STARTED</th>\n",
       "      <th>A001_01</th>\n",
       "      <th>A101</th>\n",
       "      <th>A102</th>\n",
       "      <th>A103_01</th>\n",
       "      <th>...</th>\n",
       "      <th>MAILSENT</th>\n",
       "      <th>LASTDATA</th>\n",
       "      <th>FINISHED</th>\n",
       "      <th>Q_VIEWER</th>\n",
       "      <th>LASTPAGE</th>\n",
       "      <th>MAXPAGE</th>\n",
       "      <th>MISSING</th>\n",
       "      <th>MISSREL</th>\n",
       "      <th>TIME_RSI</th>\n",
       "      <th>DEG_TIME</th>\n",
       "    </tr>\n",
       "  </thead>\n",
       "  <tbody>\n",
       "    <tr>\n",
       "      <th>0</th>\n",
       "      <td>44</td>\n",
       "      <td>NaN</td>\n",
       "      <td>NaN</td>\n",
       "      <td>base</td>\n",
       "      <td>interview</td>\n",
       "      <td>2023-08-02 15:39:21</td>\n",
       "      <td>Annotator2</td>\n",
       "      <td>1</td>\n",
       "      <td>1</td>\n",
       "      <td>170.0</td>\n",
       "      <td>...</td>\n",
       "      <td>NaN</td>\n",
       "      <td>2023-08-02 15:46:32</td>\n",
       "      <td>1</td>\n",
       "      <td>0</td>\n",
       "      <td>7</td>\n",
       "      <td>7</td>\n",
       "      <td>0</td>\n",
       "      <td>0</td>\n",
       "      <td>1.37</td>\n",
       "      <td>23</td>\n",
       "    </tr>\n",
       "    <tr>\n",
       "      <th>1</th>\n",
       "      <td>45</td>\n",
       "      <td>NaN</td>\n",
       "      <td>NaN</td>\n",
       "      <td>base</td>\n",
       "      <td>interview</td>\n",
       "      <td>2023-08-02 15:41:54</td>\n",
       "      <td>Annotator3</td>\n",
       "      <td>1</td>\n",
       "      <td>1</td>\n",
       "      <td>160.0</td>\n",
       "      <td>...</td>\n",
       "      <td>NaN</td>\n",
       "      <td>2023-08-02 15:45:33</td>\n",
       "      <td>1</td>\n",
       "      <td>0</td>\n",
       "      <td>7</td>\n",
       "      <td>7</td>\n",
       "      <td>0</td>\n",
       "      <td>0</td>\n",
       "      <td>1.98</td>\n",
       "      <td>56</td>\n",
       "    </tr>\n",
       "    <tr>\n",
       "      <th>2</th>\n",
       "      <td>47</td>\n",
       "      <td>NaN</td>\n",
       "      <td>NaN</td>\n",
       "      <td>base</td>\n",
       "      <td>interview</td>\n",
       "      <td>2023-08-02 16:39:03</td>\n",
       "      <td>Annotator6</td>\n",
       "      <td>1</td>\n",
       "      <td>1</td>\n",
       "      <td>150.0</td>\n",
       "      <td>...</td>\n",
       "      <td>NaN</td>\n",
       "      <td>2023-08-02 16:43:57</td>\n",
       "      <td>1</td>\n",
       "      <td>0</td>\n",
       "      <td>7</td>\n",
       "      <td>7</td>\n",
       "      <td>0</td>\n",
       "      <td>0</td>\n",
       "      <td>0.88</td>\n",
       "      <td>4</td>\n",
       "    </tr>\n",
       "    <tr>\n",
       "      <th>3</th>\n",
       "      <td>49</td>\n",
       "      <td>NaN</td>\n",
       "      <td>NaN</td>\n",
       "      <td>base</td>\n",
       "      <td>interview</td>\n",
       "      <td>2023-08-02 16:42:34</td>\n",
       "      <td>Annotator5</td>\n",
       "      <td>1</td>\n",
       "      <td>1</td>\n",
       "      <td>112.0</td>\n",
       "      <td>...</td>\n",
       "      <td>NaN</td>\n",
       "      <td>2023-08-02 16:54:54</td>\n",
       "      <td>1</td>\n",
       "      <td>0</td>\n",
       "      <td>7</td>\n",
       "      <td>7</td>\n",
       "      <td>0</td>\n",
       "      <td>0</td>\n",
       "      <td>1.57</td>\n",
       "      <td>39</td>\n",
       "    </tr>\n",
       "    <tr>\n",
       "      <th>4</th>\n",
       "      <td>50</td>\n",
       "      <td>NaN</td>\n",
       "      <td>NaN</td>\n",
       "      <td>base</td>\n",
       "      <td>interview</td>\n",
       "      <td>2023-08-02 18:35:10</td>\n",
       "      <td>Annotator7</td>\n",
       "      <td>1</td>\n",
       "      <td>1</td>\n",
       "      <td>70.0</td>\n",
       "      <td>...</td>\n",
       "      <td>NaN</td>\n",
       "      <td>2023-08-02 18:52:04</td>\n",
       "      <td>1</td>\n",
       "      <td>0</td>\n",
       "      <td>7</td>\n",
       "      <td>7</td>\n",
       "      <td>0</td>\n",
       "      <td>0</td>\n",
       "      <td>1.63</td>\n",
       "      <td>49</td>\n",
       "    </tr>\n",
       "    <tr>\n",
       "      <th>5</th>\n",
       "      <td>54</td>\n",
       "      <td>NaN</td>\n",
       "      <td>NaN</td>\n",
       "      <td>base</td>\n",
       "      <td>interview</td>\n",
       "      <td>2023-08-04 20:06:19</td>\n",
       "      <td>Annotator8</td>\n",
       "      <td>1</td>\n",
       "      <td>1</td>\n",
       "      <td>1.0</td>\n",
       "      <td>...</td>\n",
       "      <td>NaN</td>\n",
       "      <td>2023-08-04 20:13:34</td>\n",
       "      <td>1</td>\n",
       "      <td>0</td>\n",
       "      <td>7</td>\n",
       "      <td>7</td>\n",
       "      <td>0</td>\n",
       "      <td>0</td>\n",
       "      <td>0.73</td>\n",
       "      <td>5</td>\n",
       "    </tr>\n",
       "    <tr>\n",
       "      <th>6</th>\n",
       "      <td>55</td>\n",
       "      <td>NaN</td>\n",
       "      <td>NaN</td>\n",
       "      <td>base</td>\n",
       "      <td>interview</td>\n",
       "      <td>2023-08-04 20:33:01</td>\n",
       "      <td>Annotator9</td>\n",
       "      <td>1</td>\n",
       "      <td>1</td>\n",
       "      <td>60.0</td>\n",
       "      <td>...</td>\n",
       "      <td>NaN</td>\n",
       "      <td>2023-08-04 20:54:36</td>\n",
       "      <td>1</td>\n",
       "      <td>0</td>\n",
       "      <td>7</td>\n",
       "      <td>7</td>\n",
       "      <td>0</td>\n",
       "      <td>0</td>\n",
       "      <td>0.35</td>\n",
       "      <td>0</td>\n",
       "    </tr>\n",
       "    <tr>\n",
       "      <th>7</th>\n",
       "      <td>58</td>\n",
       "      <td>NaN</td>\n",
       "      <td>NaN</td>\n",
       "      <td>base</td>\n",
       "      <td>interview</td>\n",
       "      <td>2023-08-05 01:49:22</td>\n",
       "      <td>Annotator10</td>\n",
       "      <td>1</td>\n",
       "      <td>1</td>\n",
       "      <td>50.0</td>\n",
       "      <td>...</td>\n",
       "      <td>NaN</td>\n",
       "      <td>2023-08-05 01:52:07</td>\n",
       "      <td>1</td>\n",
       "      <td>0</td>\n",
       "      <td>7</td>\n",
       "      <td>7</td>\n",
       "      <td>0</td>\n",
       "      <td>0</td>\n",
       "      <td>1.54</td>\n",
       "      <td>89</td>\n",
       "    </tr>\n",
       "    <tr>\n",
       "      <th>8</th>\n",
       "      <td>59</td>\n",
       "      <td>NaN</td>\n",
       "      <td>NaN</td>\n",
       "      <td>base</td>\n",
       "      <td>interview</td>\n",
       "      <td>2023-08-05 12:11:10</td>\n",
       "      <td>Annotator14</td>\n",
       "      <td>1</td>\n",
       "      <td>2</td>\n",
       "      <td>60.0</td>\n",
       "      <td>...</td>\n",
       "      <td>NaN</td>\n",
       "      <td>2023-08-05 12:23:27</td>\n",
       "      <td>1</td>\n",
       "      <td>0</td>\n",
       "      <td>7</td>\n",
       "      <td>7</td>\n",
       "      <td>0</td>\n",
       "      <td>0</td>\n",
       "      <td>0.66</td>\n",
       "      <td>1</td>\n",
       "    </tr>\n",
       "    <tr>\n",
       "      <th>9</th>\n",
       "      <td>62</td>\n",
       "      <td>NaN</td>\n",
       "      <td>NaN</td>\n",
       "      <td>base</td>\n",
       "      <td>interview</td>\n",
       "      <td>2023-08-08 20:08:04</td>\n",
       "      <td>Annotator11</td>\n",
       "      <td>-9</td>\n",
       "      <td>1</td>\n",
       "      <td>NaN</td>\n",
       "      <td>...</td>\n",
       "      <td>NaN</td>\n",
       "      <td>2023-08-08 20:10:05</td>\n",
       "      <td>1</td>\n",
       "      <td>0</td>\n",
       "      <td>7</td>\n",
       "      <td>7</td>\n",
       "      <td>10</td>\n",
       "      <td>9</td>\n",
       "      <td>0.93</td>\n",
       "      <td>3</td>\n",
       "    </tr>\n",
       "    <tr>\n",
       "      <th>10</th>\n",
       "      <td>63</td>\n",
       "      <td>NaN</td>\n",
       "      <td>NaN</td>\n",
       "      <td>base</td>\n",
       "      <td>interview</td>\n",
       "      <td>2023-08-11 15:14:23</td>\n",
       "      <td>Annotator12</td>\n",
       "      <td>1</td>\n",
       "      <td>1</td>\n",
       "      <td>45.0</td>\n",
       "      <td>...</td>\n",
       "      <td>NaN</td>\n",
       "      <td>2023-08-11 15:17:26</td>\n",
       "      <td>1</td>\n",
       "      <td>0</td>\n",
       "      <td>7</td>\n",
       "      <td>7</td>\n",
       "      <td>0</td>\n",
       "      <td>0</td>\n",
       "      <td>1.37</td>\n",
       "      <td>19</td>\n",
       "    </tr>\n",
       "    <tr>\n",
       "      <th>11</th>\n",
       "      <td>65</td>\n",
       "      <td>NaN</td>\n",
       "      <td>NaN</td>\n",
       "      <td>base</td>\n",
       "      <td>interview</td>\n",
       "      <td>2023-08-13 20:41:10</td>\n",
       "      <td>Annotator13</td>\n",
       "      <td>1</td>\n",
       "      <td>1</td>\n",
       "      <td>120.0</td>\n",
       "      <td>...</td>\n",
       "      <td>NaN</td>\n",
       "      <td>2023-08-13 21:07:46</td>\n",
       "      <td>1</td>\n",
       "      <td>0</td>\n",
       "      <td>7</td>\n",
       "      <td>7</td>\n",
       "      <td>0</td>\n",
       "      <td>0</td>\n",
       "      <td>0.59</td>\n",
       "      <td>1</td>\n",
       "    </tr>\n",
       "    <tr>\n",
       "      <th>12</th>\n",
       "      <td>67</td>\n",
       "      <td>NaN</td>\n",
       "      <td>NaN</td>\n",
       "      <td>base</td>\n",
       "      <td>interview</td>\n",
       "      <td>2023-08-17 03:33:30</td>\n",
       "      <td>Annotator1</td>\n",
       "      <td>1</td>\n",
       "      <td>1</td>\n",
       "      <td>110.0</td>\n",
       "      <td>...</td>\n",
       "      <td>NaN</td>\n",
       "      <td>2023-08-17 03:36:05</td>\n",
       "      <td>1</td>\n",
       "      <td>0</td>\n",
       "      <td>7</td>\n",
       "      <td>7</td>\n",
       "      <td>0</td>\n",
       "      <td>0</td>\n",
       "      <td>1.89</td>\n",
       "      <td>47</td>\n",
       "    </tr>\n",
       "  </tbody>\n",
       "</table>\n",
       "<p>13 rows × 59 columns</p>\n",
       "</div>"
      ],
      "text/plain": [
       "    CASE  SERIAL  REF QUESTNNR       MODE              STARTED      A001_01   \n",
       "0     44     NaN  NaN     base  interview  2023-08-02 15:39:21   Annotator2  \\\n",
       "1     45     NaN  NaN     base  interview  2023-08-02 15:41:54   Annotator3   \n",
       "2     47     NaN  NaN     base  interview  2023-08-02 16:39:03   Annotator6   \n",
       "3     49     NaN  NaN     base  interview  2023-08-02 16:42:34   Annotator5   \n",
       "4     50     NaN  NaN     base  interview  2023-08-02 18:35:10   Annotator7   \n",
       "5     54     NaN  NaN     base  interview  2023-08-04 20:06:19   Annotator8   \n",
       "6     55     NaN  NaN     base  interview  2023-08-04 20:33:01   Annotator9   \n",
       "7     58     NaN  NaN     base  interview  2023-08-05 01:49:22  Annotator10   \n",
       "8     59     NaN  NaN     base  interview  2023-08-05 12:11:10  Annotator14   \n",
       "9     62     NaN  NaN     base  interview  2023-08-08 20:08:04  Annotator11   \n",
       "10    63     NaN  NaN     base  interview  2023-08-11 15:14:23  Annotator12   \n",
       "11    65     NaN  NaN     base  interview  2023-08-13 20:41:10  Annotator13   \n",
       "12    67     NaN  NaN     base  interview  2023-08-17 03:33:30   Annotator1   \n",
       "\n",
       "    A101  A102  A103_01  ...  MAILSENT             LASTDATA  FINISHED   \n",
       "0      1     1    170.0  ...       NaN  2023-08-02 15:46:32         1  \\\n",
       "1      1     1    160.0  ...       NaN  2023-08-02 15:45:33         1   \n",
       "2      1     1    150.0  ...       NaN  2023-08-02 16:43:57         1   \n",
       "3      1     1    112.0  ...       NaN  2023-08-02 16:54:54         1   \n",
       "4      1     1     70.0  ...       NaN  2023-08-02 18:52:04         1   \n",
       "5      1     1      1.0  ...       NaN  2023-08-04 20:13:34         1   \n",
       "6      1     1     60.0  ...       NaN  2023-08-04 20:54:36         1   \n",
       "7      1     1     50.0  ...       NaN  2023-08-05 01:52:07         1   \n",
       "8      1     2     60.0  ...       NaN  2023-08-05 12:23:27         1   \n",
       "9     -9     1      NaN  ...       NaN  2023-08-08 20:10:05         1   \n",
       "10     1     1     45.0  ...       NaN  2023-08-11 15:17:26         1   \n",
       "11     1     1    120.0  ...       NaN  2023-08-13 21:07:46         1   \n",
       "12     1     1    110.0  ...       NaN  2023-08-17 03:36:05         1   \n",
       "\n",
       "    Q_VIEWER  LASTPAGE  MAXPAGE  MISSING  MISSREL  TIME_RSI  DEG_TIME  \n",
       "0          0         7        7        0        0      1.37        23  \n",
       "1          0         7        7        0        0      1.98        56  \n",
       "2          0         7        7        0        0      0.88         4  \n",
       "3          0         7        7        0        0      1.57        39  \n",
       "4          0         7        7        0        0      1.63        49  \n",
       "5          0         7        7        0        0      0.73         5  \n",
       "6          0         7        7        0        0      0.35         0  \n",
       "7          0         7        7        0        0      1.54        89  \n",
       "8          0         7        7        0        0      0.66         1  \n",
       "9          0         7        7       10        9      0.93         3  \n",
       "10         0         7        7        0        0      1.37        19  \n",
       "11         0         7        7        0        0      0.59         1  \n",
       "12         0         7        7        0        0      1.89        47  \n",
       "\n",
       "[13 rows x 59 columns]"
      ]
     },
     "execution_count": 16,
     "metadata": {},
     "output_type": "execute_result"
    }
   ],
   "source": [
    "df"
   ]
  },
  {
   "cell_type": "code",
   "execution_count": 17,
   "metadata": {},
   "outputs": [],
   "source": [
    "def find_name(name):\n",
    "    for idx, entry in enumerate(df[\"A001_01\"]):\n",
    "        if entry == name:\n",
    "            return idx\n",
    "    return -1\n",
    "def get_hours(idx):\n",
    "    return df[\"A103_01\"][idx] # Online A104_01\n",
    "\n"
   ]
  },
  {
   "cell_type": "code",
   "execution_count": 18,
   "metadata": {},
   "outputs": [],
   "source": [
    "x_total = []\n",
    "y_total = []\n",
    "annotation_threshold = 30\n",
    "# Get the amount of hours played and a score signifying the likelihood to annotate a match as toxic\n",
    "for annotator in annotators.find({}):\n",
    "    \n",
    "    idx = find_name(annotator[\"name\"])\n",
    "    if idx == -1:\n",
    "        continue\n",
    "    \n",
    "    score = 0\n",
    "    count = 0\n",
    "    for annotation in annotator[\"annotations\"].values():\n",
    "        if annotation[\"problem\"]:\n",
    "            continue\n",
    "        if annotation[\"gameAnnotation\"] == \"N_A\":\n",
    "            continue\n",
    "        score += get_score[annotation[\"gameAnnotation\"]]\n",
    "        count += 1\n",
    "    if count < annotation_threshold:\n",
    "        continue\n",
    "    hours = get_hours(idx)\n",
    "    if np.isnan(hours):\n",
    "        hours = 0\n",
    "    x_total.append(hours)\n",
    "\n",
    "    y_total.append(score/count)\n"
   ]
  },
  {
   "cell_type": "code",
   "execution_count": 19,
   "metadata": {},
   "outputs": [],
   "source": [
    "x_message = []\n",
    "y_message = []\n",
    "# Get the amount of hours played and a score signifying the likelihood to annotate a message as toxic\n",
    "for annotator in annotators.find({}):\n",
    "    \n",
    "    idx = find_name(annotator[\"name\"])\n",
    "    if idx == -1:\n",
    "        continue\n",
    "    \n",
    "    score = 0\n",
    "    count = 0\n",
    "    annotation_count = 0\n",
    "    for annotation in annotator[\"annotations\"].values():\n",
    "        if annotation[\"problem\"]:\n",
    "            continue\n",
    "        if annotation[\"gameAnnotation\"] == \"N_A\":\n",
    "            continue\n",
    "        for message in annotation[\"messages\"]:\n",
    "            if message == \"N_A\" or message == \"NEUTRAL\":\n",
    "                continue\n",
    "            score += get_score[message]\n",
    "            count += 1\n",
    "        annotation_count += 1\n",
    "    if annotation_count < annotation_threshold:\n",
    "        continue\n",
    "    hours = get_hours(idx)\n",
    "    if np.isnan(hours):\n",
    "        hours = 0\n",
    "    x_message.append(hours)\n",
    "\n",
    "    y_message.append(score/count)"
   ]
  },
  {
   "cell_type": "code",
   "execution_count": 26,
   "metadata": {},
   "outputs": [
    {
     "data": {
      "text/plain": [
       "Text(0.5, 0, 'Hours')"
      ]
     },
     "execution_count": 26,
     "metadata": {},
     "output_type": "execute_result"
    },
    {
     "data": {
      "image/png": "[encoded data removed]",
      "text/plain": [
       "<Figure size 640x480 with 1 Axes>"
      ]
     },
     "metadata": {},
     "output_type": "display_data"
    }
   ],
   "source": [
    "b, a = np.polyfit(x_total, y_total, deg=1)\n",
    "\n",
    "xseq = np.linspace(0, 180, num=len(x_total))\n",
    "\n",
    "# Plot regression line\n",
    "plt.plot(xseq, a + b * xseq, color=\"b\", lw=1);\n",
    "\n",
    "b, a = np.polyfit(x_message, y_message, deg=1)\n",
    "\n",
    "xseq = np.linspace(0, 180, num=len(x_total))\n",
    "\n",
    "# Plot regression line\n",
    "plt.plot(xseq, a + b * xseq, color=\"r\", lw=1);\n",
    "\n",
    "plt.scatter(x_total, y_total, label=\"Match annotations\")\n",
    "plt.scatter(x_message, y_message, label=\"Message annotations\")\n",
    "plt.legend()\n",
    "plt.ylabel(\"Score\")\n",
    "plt.xlabel(\"Hours\")\n"
   ]
  },
  {
   "cell_type": "code",
   "execution_count": 21,
   "metadata": {},
   "outputs": [
    {
     "data": {
      "text/plain": [
       "array([[ 1.        , -0.45297453],\n",
       "       [-0.45297453,  1.        ]])"
      ]
     },
     "execution_count": 21,
     "metadata": {},
     "output_type": "execute_result"
    }
   ],
   "source": [
    "np.corrcoef(x_total,y_total)"
   ]
  },
  {
   "cell_type": "code",
   "execution_count": 22,
   "metadata": {},
   "outputs": [
    {
     "data": {
      "text/plain": [
       "array([[ 1.        , -0.36486069],\n",
       "       [-0.36486069,  1.        ]])"
      ]
     },
     "execution_count": 22,
     "metadata": {},
     "output_type": "execute_result"
    }
   ],
   "source": [
    "np.corrcoef(x_message,y_message)"
   ]
  }
 ],
 "metadata": {
  "kernelspec": {
   "display_name": "tf",
   "language": "python",
   "name": "python3"
  },
  "language_info": {
   "codemirror_mode": {
    "name": "ipython",
    "version": 3
   },
   "file_extension": ".py",
   "mimetype": "text/x-python",
   "name": "python",
   "nbconvert_exporter": "python",
   "pygments_lexer": "ipython3",
   "version": "3.8.16"
  },
  "orig_nbformat": 4
 },
 "nbformat": 4,
 "nbformat_minor": 2
}
